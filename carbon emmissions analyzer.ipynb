{
  "nbformat": 4,
  "nbformat_minor": 0,
  "metadata": {
    "colab": {
      "provenance": [],
      "authorship_tag": "ABX9TyMXHMEYKEP0ldxGqCmjGqGd",
      "include_colab_link": true
    },
    "kernelspec": {
      "name": "python3",
      "display_name": "Python 3"
    },
    "language_info": {
      "name": "python"
    }
  },
  "cells": [
    {
      "cell_type": "markdown",
      "metadata": {
        "id": "view-in-github",
        "colab_type": "text"
      },
      "source": [
        "<a href=\"https://colab.research.google.com/github/samsoneul/Carbon-Emissions-Analyzer/blob/main/carbon%20emmissions%20analyzer.ipynb\" target=\"_parent\"><img src=\"https://colab.research.google.com/assets/colab-badge.svg\" alt=\"Open In Colab\"/></a>"
      ]
    },
    {
      "cell_type": "code",
      "source": [
        "from google.colab import drive\n",
        "drive.mount('/content/drive')"
      ],
      "metadata": {
        "id": "zCpHPHk__tAX",
        "colab": {
          "base_uri": "https://localhost:8080/"
        },
        "outputId": "9fb6e219-ccda-444f-a240-24b1f8f00f01"
      },
      "execution_count": null,
      "outputs": [
        {
          "output_type": "stream",
          "name": "stdout",
          "text": [
            "Mounted at /content/drive\n"
          ]
        }
      ]
    },
    {
      "cell_type": "code",
      "execution_count": null,
      "metadata": {
        "id": "KU7YqRC9_m30",
        "colab": {
          "base_uri": "https://localhost:8080/"
        },
        "outputId": "697448a7-cc44-4a74-b8dd-8b9346c1042e"
      },
      "outputs": [
        {
          "output_type": "stream",
          "name": "stdout",
          "text": [
            "/content\n"
          ]
        }
      ],
      "source": [
        "import pandas as pd\n",
        "import numpy as np\n",
        "import os\n",
        "\n",
        "\n",
        "print(os.getcwd())\n",
        "\n",
        "#load data\n",
        "\n",
        "file_path = '/content/drive/MyDrive/PDGES-GHGRP-GHGEmissionsGES-2004-Present (1).csv'\n",
        "data = pd.read_csv(file_path, encoding='ISO-8859-1')\n"
      ]
    },
    {
      "cell_type": "code",
      "source": [
        "#explore the data\n",
        "# print(data.head())\n",
        "\n",
        "print(data.isnull().sum())"
      ],
      "metadata": {
        "colab": {
          "base_uri": "https://localhost:8080/"
        },
        "id": "mSDmUbU1HNNY",
        "outputId": "08d64cec-1939-4715-8f25-25ddaf5df58d"
      },
      "execution_count": null,
      "outputs": [
        {
          "output_type": "stream",
          "name": "stdout",
          "text": [
            "GHGRP ID / Numéro d'identification de PDGES                                                           0\n",
            "Reference Year / Année de référence                                                                   0\n",
            "Facility Name / Nom de l'installation                                                                 0\n",
            "Facility Location / Emplacement de l'installation                                                  3323\n",
            "Facility City or District or Municipality / Ville ou District ou Municipalité de l'installation    1252\n",
            "                                                                                                   ... \n",
            "C6F14 (tonnes CO2e / tonnes éq. CO2)                                                                  0\n",
            "PFC Total (tonnes CO2e / tonnes éq. CO2)                                                              1\n",
            "SF6 (tonnes)                                                                                       9660\n",
            "SF6 (tonnes CO2e / tonnes éq. CO2)                                                                 9660\n",
            "Total Emissions (tonnes CO2e) / Émissions totales (tonnes éq. CO2)                                    0\n",
            "Length: 77, dtype: int64\n"
          ]
        }
      ]
    },
    {
      "cell_type": "code",
      "source": [
        "# prompt: clean the missing values\n",
        "\n",
        "# Identify columns with missing values\n",
        "cols_with_missing = data.columns[data.isnull().any()].tolist()\n",
        "\n",
        "# Impute missing values with the median for numerical columns\n",
        "for col in cols_with_missing:\n",
        "    if data[col].dtype in ['int64', 'float64']:\n",
        "        if 'tonnes CO2e' in col:\n",
        "          data[col].fillna('0',inplace=True)\n",
        "        else:\n",
        "          data[col].fillna(data[col].median(),inplace=True)\n",
        "    else:\n",
        "       #for cateogrical values\n",
        "       if 'GHGRP ID' in col:\n",
        "        data[col].fillna(\"Missing ID\",inplace=True)\n",
        "       elif 'Facility' in col:\n",
        "        data[col].fillna(\"Unknown Facility\", inplace =True)\n",
        "        else:\n",
        "          mode_ratio = data[col].value_counts(normalize=True).iloc[0]\n",
        "            if mode_ratio > 0.6:  # Strong mode exists\n",
        "                data[col].fillna(data[col].mode()[0], inplace=True)\n",
        "            else:\n",
        "                data[col] = data[col].cat.add_categories('MULTIPLE_COMMON_VALUES')\n",
        "                data[col].fillna('MULTIPLE_COMMON_VALUES', inplace=True)\n",
        "\n",
        "\n",
        "print(\"\\nMissing values after cleaning:\")\n",
        "print(data.isnull().sum())"
      ],
      "metadata": {
        "colab": {
          "base_uri": "https://localhost:8080/"
        },
        "id": "H90m9MvoQlG0",
        "outputId": "b3712799-8470-4e75-c1c6-3a390202936a"
      },
      "execution_count": null,
      "outputs": [
        {
          "output_type": "stream",
          "name": "stdout",
          "text": [
            "\n",
            "Missing values after cleaning:\n",
            "GHGRP ID / Numéro d'identification de PDGES                                                        0\n",
            "Reference Year / Année de référence                                                                0\n",
            "Facility Name / Nom de l'installation                                                              0\n",
            "Facility Location / Emplacement de l'installation                                                  0\n",
            "Facility City or District or Municipality / Ville ou District ou Municipalité de l'installation    0\n",
            "                                                                                                  ..\n",
            "C6F14 (tonnes CO2e / tonnes éq. CO2)                                                               0\n",
            "PFC Total (tonnes CO2e / tonnes éq. CO2)                                                           0\n",
            "SF6 (tonnes)                                                                                       0\n",
            "SF6 (tonnes CO2e / tonnes éq. CO2)                                                                 0\n",
            "Total Emissions (tonnes CO2e) / Émissions totales (tonnes éq. CO2)                                 0\n",
            "Length: 77, dtype: int64\n"
          ]
        }
      ]
    },
    {
      "cell_type": "code",
      "source": [
        "print(data.head())"
      ],
      "metadata": {
        "colab": {
          "base_uri": "https://localhost:8080/"
        },
        "id": "y2RX3neOQvJL",
        "outputId": "f770893a-c732-4c20-d55c-b7b5a8e385ec"
      },
      "execution_count": null,
      "outputs": [
        {
          "output_type": "stream",
          "name": "stdout",
          "text": [
            "  GHGRP ID / Numéro d'identification de PDGES  \\\n",
            "0                                      G10001   \n",
            "1                                      G10003   \n",
            "2                                      G10004   \n",
            "3                                      G10006   \n",
            "4                                      G10007   \n",
            "\n",
            "   Reference Year / Année de référence Facility Name / Nom de l'installation  \\\n",
            "0                                 2020                         Division Alma   \n",
            "1                                 2020           Foothills Pipeline, Alberta   \n",
            "2                                 2020                        Kingston CoGen   \n",
            "3                                 2020        Redwater Fertilizer Operations   \n",
            "4                                 2020                   Alberta Envirofuels   \n",
            "\n",
            "  Facility Location / Emplacement de l'installation  \\\n",
            "0                              1100 Melanion Street   \n",
            "1                                               NaN   \n",
            "2                        5146 Taylor-Kidd Boulevard   \n",
            "3                                       56225 SH643   \n",
            "4                          9511 17 Street Northwest   \n",
            "\n",
            "  Facility City or District or Municipality / Ville ou District ou Municipalité de l'installation  \\\n",
            "0                                               Alma                                                \n",
            "1                                            Airdrie                                                \n",
            "2                                               Bath                                                \n",
            "3                                    Sturgeon County                                                \n",
            "4                                           Edmonton                                                \n",
            "\n",
            "  Facility Province or Territory / Province ou territoire de l'installation  \\\n",
            "0                                             Quebec                          \n",
            "1                                            Alberta                          \n",
            "2                                            Ontario                          \n",
            "3                                            Alberta                          \n",
            "4                                            Alberta                          \n",
            "\n",
            "  Facility Postal Code / Code postal de l'installation  Latitude  Longitude  \\\n",
            "0                                            G8B 5W2    48.56500  -71.65556   \n",
            "1                                            T4A 2G7         NaN        NaN   \n",
            "2                                            K0H 1G0    44.20950  -76.72460   \n",
            "3                                            T0A 2W0    53.84200 -113.09300   \n",
            "4                                            T6P 1Y3    53.53199 -113.36492   \n",
            "\n",
            "   Facility NPRI ID / Numéro d'identification de l'INRP  ...  C4F8 (tonnes)  \\\n",
            "0                                              983.0     ...            0.0   \n",
            "1                                                NaN     ...            0.0   \n",
            "2                                             5765.0     ...            0.0   \n",
            "3                                             2134.0     ...            0.0   \n",
            "4                                             3974.0     ...            0.0   \n",
            "\n",
            "  C4F8 (tonnes CO2e / tonnes éq. CO2) C5F12 (tonnes)  \\\n",
            "0                                 0.0              0   \n",
            "1                                 0.0              0   \n",
            "2                                 0.0              0   \n",
            "3                                 0.0              0   \n",
            "4                                 0.0              0   \n",
            "\n",
            "  C5F12 (tonnes CO2e / tonnes éq. CO2) C6F14 (tonnes)  \\\n",
            "0                                    0              0   \n",
            "1                                    0              0   \n",
            "2                                    0              0   \n",
            "3                                    0              0   \n",
            "4                                    0              0   \n",
            "\n",
            "   C6F14 (tonnes CO2e / tonnes éq. CO2)  \\\n",
            "0                                     0   \n",
            "1                                     0   \n",
            "2                                     0   \n",
            "3                                     0   \n",
            "4                                     0   \n",
            "\n",
            "   PFC Total (tonnes CO2e / tonnes éq. CO2) SF6 (tonnes)  \\\n",
            "0                                       0.0          NaN   \n",
            "1                                       0.0          NaN   \n",
            "2                                       0.0          NaN   \n",
            "3                                       0.0          NaN   \n",
            "4                                       0.0          NaN   \n",
            "\n",
            "  SF6 (tonnes CO2e / tonnes éq. CO2)  \\\n",
            "0                                NaN   \n",
            "1                                NaN   \n",
            "2                                NaN   \n",
            "3                                NaN   \n",
            "4                                NaN   \n",
            "\n",
            "   Total Emissions (tonnes CO2e) / Émissions totales (tonnes éq. CO2)  \n",
            "0                                       7.779969e+04                   \n",
            "1                                       2.878482e+05                   \n",
            "2                                       3.237168e+02                   \n",
            "3                                       1.091022e+06                   \n",
            "4                                       3.016439e+05                   \n",
            "\n",
            "[5 rows x 77 columns]\n"
          ]
        }
      ]
    }
  ]
}