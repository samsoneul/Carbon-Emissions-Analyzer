{
  "nbformat": 4,
  "nbformat_minor": 0,
  "metadata": {
    "colab": {
      "provenance": [],
      "authorship_tag": "ABX9TyPGR/bZVpKVBbW7LJi//z1z",
      "include_colab_link": true
    },
    "kernelspec": {
      "name": "python3",
      "display_name": "Python 3"
    },
    "language_info": {
      "name": "python"
    }
  },
  "cells": [
    {
      "cell_type": "markdown",
      "metadata": {
        "id": "view-in-github",
        "colab_type": "text"
      },
      "source": [
        "<a href=\"https://colab.research.google.com/github/samsoneul/Carbon-Emissions-Analyzer/blob/main/carbon%20emmissions%20analyzer.ipynb\" target=\"_parent\"><img src=\"https://colab.research.google.com/assets/colab-badge.svg\" alt=\"Open In Colab\"/></a>"
      ]
    },
    {
      "cell_type": "code",
      "source": [
        "from google.colab import drive\n",
        "drive.mount('/content/drive')"
      ],
      "metadata": {
        "id": "zCpHPHk__tAX",
        "colab": {
          "base_uri": "https://localhost:8080/"
        },
        "outputId": "12eae364-5e7a-48f6-8f5c-304b7c2975a7"
      },
      "execution_count": 1,
      "outputs": [
        {
          "output_type": "stream",
          "name": "stdout",
          "text": [
            "Mounted at /content/drive\n"
          ]
        }
      ]
    },
    {
      "cell_type": "code",
      "execution_count": 19,
      "metadata": {
        "id": "KU7YqRC9_m30",
        "colab": {
          "base_uri": "https://localhost:8080/"
        },
        "outputId": "efc0692b-1da6-43fe-b545-dd20110252d5"
      },
      "outputs": [
        {
          "output_type": "stream",
          "name": "stdout",
          "text": [
            "/content\n"
          ]
        }
      ],
      "source": [
        "import pandas as pd\n",
        "import numpy as np\n",
        "import os\n",
        "\n",
        "\n",
        "print(os.getcwd())\n",
        "\n",
        "#load data\n",
        "\n",
        "file_path = '/content/drive/MyDrive/PDGES-GHGRP-GHGEmissionsGES-2004-Present (1).csv'\n",
        "data = pd.read_csv(file_path, encoding='ISO-8859-1')\n"
      ]
    },
    {
      "cell_type": "code",
      "source": [
        "#explore the data\n",
        "# print(data.head())\n",
        "\n",
        "print(data.isnull().sum())\n"
      ],
      "metadata": {
        "colab": {
          "base_uri": "https://localhost:8080/"
        },
        "id": "mSDmUbU1HNNY",
        "outputId": "9f2cf0a7-dc7f-4d2c-9b06-c804bc266215"
      },
      "execution_count": 41,
      "outputs": [
        {
          "output_type": "stream",
          "name": "stdout",
          "text": [
            "GHGRP ID / Numéro d'identification de PDGES                                                           0\n",
            "Reference Year / Année de référence                                                                   0\n",
            "Facility Name / Nom de l'installation                                                                 0\n",
            "Facility Location / Emplacement de l'installation                                                  3323\n",
            "Facility City or District or Municipality / Ville ou District ou Municipalité de l'installation    1252\n",
            "                                                                                                   ... \n",
            "C6F14 (tonnes CO2e / tonnes éq. CO2)                                                                  0\n",
            "PFC Total (tonnes CO2e / tonnes éq. CO2)                                                              1\n",
            "SF6 (tonnes)                                                                                       9660\n",
            "SF6 (tonnes CO2e / tonnes éq. CO2)                                                                 9660\n",
            "Total Emissions (tonnes CO2e) / Émissions totales (tonnes éq. CO2)                                    0\n",
            "Length: 77, dtype: int64\n"
          ]
        }
      ]
    },
    {
      "cell_type": "code",
      "source": [
        "#select columns used for analysis\n",
        "key_columns = [\n",
        "    'GHGRP ID / Numéro d\\'identification de PDGES',  # Facility identifier\n",
        "    'Facility Name / Nom de l\\'installation',\n",
        "    'Facility Province or Territory / Province ou territoire de l\\'installation',\n",
        "\n",
        "]\n",
        "#add coulmns that have CO2 emmision data\n",
        "for col in data.columns.to_list():\n",
        "  if 'tonnes CO2e' in col:\n",
        "    key_columns.append(col)\n",
        "print(key_columns)"
      ],
      "metadata": {
        "id": "0PQElYXlFeGL",
        "outputId": "8e842e18-a106-4a14-a2ef-4aa4a161b223",
        "colab": {
          "base_uri": "https://localhost:8080/"
        }
      },
      "execution_count": 63,
      "outputs": [
        {
          "output_type": "stream",
          "name": "stdout",
          "text": [
            "[\"GHGRP ID / Numéro d'identification de PDGES\", \"Facility Name / Nom de l'installation\", \"Facility Province or Territory / Province ou territoire de l'installation\", 'CO2 (tonnes CO2e / tonnes éq. CO2)', 'CH4 (tonnes CO2e / tonnes éq. CO2)', 'N2O (tonnes CO2e / tonnes éq. CO2)', ' HFC-23 (tonnes CO2e / tonnes éq. CO2)', 'HFC-32 (tonnes CO2e / tonnes éq. CO2)', 'HFC-125 (tonnes CO2e / tonnes éq. CO2)', 'HFC-134a (tonnes CO2e / tonnes éq. CO2)', 'HFC-143a (tonnes CO2e / tonnes éq. CO2)', 'HFC-152a (tonnes CO2e / tonnes éq. CO2)', 'HFC-41 (tonnes CO2e / tonnes éq. CO2)', 'HFC-43-10mee (tonnes CO2e / tonnes éq. CO2)', 'HFC-134 (tonnes CO2e / tonnes éq. CO2)', 'HFC-143 (tonnes CO2e / tonnes éq. CO2)', 'HFC-227ea (tonnes CO2e / tonnes éq. CO2)', 'HFC-236fa (tonnes CO2e / tonnes éq. CO2)', 'HFC-245ca (tonnes CO2e / tonnes éq. CO2)', 'HFC Total (tonnes CO2e / tonnes éq. CO2)', 'CF4 (tonnes CO2e / tonnes éq. CO2)', 'C2F6 (tonnes CO2e / tonnes éq. CO2)', 'C3F8 (tonnes CO2e / tonnes éq. CO2)', 'C4F10 (tonnes CO2e / tonnes éq. CO2)', 'C4F8 (tonnes CO2e / tonnes éq. CO2)', 'C5F12 (tonnes CO2e / tonnes éq. CO2)', 'C6F14 (tonnes CO2e / tonnes éq. CO2)', 'PFC Total (tonnes CO2e / tonnes éq. CO2)', 'SF6 (tonnes CO2e / tonnes éq. CO2)', 'Total Emissions (tonnes CO2e) / Émissions totales (tonnes éq. CO2)']\n"
          ]
        }
      ]
    },
    {
      "cell_type": "code",
      "source": [
        "\n",
        "\n",
        "\n",
        "# Identify columns with missing values\n",
        "cols_with_missing = data[key_columns].isnull().any()\n",
        "cols_with_missing=cols_with_missing.index.tolist()\n",
        "print(cols_with_missing)\n",
        "\n",
        "# Create a report dictionary to track imputations\n",
        "imputation_report = {}\n",
        "\n",
        "# Impute missing values with the median for numerical columns\n",
        "# Identify columns with missing values\n",
        "\n",
        "\n",
        "# Create a report dictionary to track imputations\n",
        "imputation_report = {}\n",
        "\n",
        "for col in cols_with_missing:\n",
        "    # Initialize report entry\n",
        "    imputation_report[col] = {\n",
        "        'n_missing': data[col].isnull().sum(),\n",
        "        'method': None,\n",
        "        'imputed_value': None\n",
        "    }\n",
        "\n",
        "    # Handle numerical columns\n",
        "    if pd.api.types.is_numeric_dtype(data[col]):\n",
        "        if 'tonnes CO2e' in col or 'tonnes' in col:\n",
        "            # For emissions data, 0 often means no emissions\n",
        "            data[col].fillna(0, inplace=True)  # Changed from string '0' to numeric 0\n",
        "            imputation_report[col].update({\n",
        "                'method': 'zero (emissions assumption)',\n",
        "                'imputed_value': 0\n",
        "            })\n",
        "        else:\n",
        "            # Use median for other numericals\n",
        "            median_val = data[col].median()\n",
        "            data[col].fillna(median_val, inplace=True)\n",
        "            imputation_report[col].update({\n",
        "                'method': 'median',\n",
        "                'imputed_value': median_val\n",
        "            })\n",
        "\n",
        "    # Handle categorical columns\n",
        "    else:\n",
        "        if 'GHGRP ID' in col or 'Numéro d\\'identification' in col:\n",
        "            # Special handling for IDs\n",
        "            data[col].fillna('MISSING_ID', inplace=True)\n",
        "            imputation_report[col].update({\n",
        "                'method': 'missing_id placeholder',\n",
        "                'imputed_value': 'MISSING_ID'\n",
        "            })\n",
        "        elif 'Facility' in col or 'Emplacement' in col:\n",
        "            # Facility-related info\n",
        "            data[col].fillna('UNKNOWN_FACILITY', inplace=True)\n",
        "            imputation_report[col].update({\n",
        "                'method': 'unknown_facility placeholder',\n",
        "                'imputed_value': 'UNKNOWN_FACILITY'\n",
        "            })\n",
        "        else:\n",
        "            # General categorical columns\n",
        "            mode_stats = data[col].value_counts(normalize=True)\n",
        "            if mode_stats.iloc[0] > 0.6:  # Strong mode exists\n",
        "                mode_val = mode_stats.index[0]\n",
        "                data[col].fillna(mode_val, inplace=True)\n",
        "                imputation_report[col].update({\n",
        "                    'method': 'mode (dominant category)',\n",
        "                    'imputed_value': mode_val,\n",
        "                    'mode_ratio': float(mode_stats.iloc[0])  # Store dominance ratio\n",
        "                })\n",
        "            else:\n",
        "                # For weak/no dominant mode\n",
        "                if not pd.api.types.is_categorical_dtype(data[col]):\n",
        "                    data[col] = data[col].astype('category')\n",
        "                data[col] = data[col].cat.add_categories('MULTIPLE_COMMON_VALUES')\n",
        "                data[col].fillna('MULTIPLE_COMMON_VALUES', inplace=True)\n",
        "                imputation_report[col].update({\n",
        "                    'method': 'multiple_common_values flag',\n",
        "                    'imputed_value': 'MULTIPLE_COMMON_VALUES',\n",
        "                    'top_category': mode_stats.index[0],\n",
        "                    'top_ratio': float(mode_stats.iloc[0])\n",
        "                })\n",
        "\n",
        "# Print results\n",
        "print(\"\\nMissing values after cleaning:\")\n",
        "print(data.isnull().sum())\n",
        "\n",
        "# Show imputation report\n",
        "print(\"\\nImputation Methods Used:\")\n",
        "for col, report in imputation_report.items():\n",
        "    print(f\"\\n{col}:\")\n",
        "    for k, v in report.items():\n",
        "        print(f\"  {k}: {v}\")"
      ],
      "metadata": {
        "colab": {
          "base_uri": "https://localhost:8080/"
        },
        "id": "H90m9MvoQlG0",
        "outputId": "b92f0e8e-0623-4b7f-fdfb-eab0ccf3016a"
      },
      "execution_count": 64,
      "outputs": [
        {
          "output_type": "stream",
          "name": "stdout",
          "text": [
            "[\"GHGRP ID / Numéro d'identification de PDGES\", \"Facility Name / Nom de l'installation\", \"Facility Province or Territory / Province ou territoire de l'installation\", 'CO2 (tonnes CO2e / tonnes éq. CO2)', 'CH4 (tonnes CO2e / tonnes éq. CO2)', 'N2O (tonnes CO2e / tonnes éq. CO2)', ' HFC-23 (tonnes CO2e / tonnes éq. CO2)', 'HFC-32 (tonnes CO2e / tonnes éq. CO2)', 'HFC-125 (tonnes CO2e / tonnes éq. CO2)', 'HFC-134a (tonnes CO2e / tonnes éq. CO2)', 'HFC-143a (tonnes CO2e / tonnes éq. CO2)', 'HFC-152a (tonnes CO2e / tonnes éq. CO2)', 'HFC-41 (tonnes CO2e / tonnes éq. CO2)', 'HFC-43-10mee (tonnes CO2e / tonnes éq. CO2)', 'HFC-134 (tonnes CO2e / tonnes éq. CO2)', 'HFC-143 (tonnes CO2e / tonnes éq. CO2)', 'HFC-227ea (tonnes CO2e / tonnes éq. CO2)', 'HFC-236fa (tonnes CO2e / tonnes éq. CO2)', 'HFC-245ca (tonnes CO2e / tonnes éq. CO2)', 'HFC Total (tonnes CO2e / tonnes éq. CO2)', 'CF4 (tonnes CO2e / tonnes éq. CO2)', 'C2F6 (tonnes CO2e / tonnes éq. CO2)', 'C3F8 (tonnes CO2e / tonnes éq. CO2)', 'C4F10 (tonnes CO2e / tonnes éq. CO2)', 'C4F8 (tonnes CO2e / tonnes éq. CO2)', 'C5F12 (tonnes CO2e / tonnes éq. CO2)', 'C6F14 (tonnes CO2e / tonnes éq. CO2)', 'PFC Total (tonnes CO2e / tonnes éq. CO2)', 'SF6 (tonnes CO2e / tonnes éq. CO2)', 'Total Emissions (tonnes CO2e) / Émissions totales (tonnes éq. CO2)']\n",
            "\n",
            "Missing values after cleaning:\n",
            "GHGRP ID / Numéro d'identification de PDGES                                                        0\n",
            "Reference Year / Année de référence                                                                0\n",
            "Facility Name / Nom de l'installation                                                              0\n",
            "Facility Location / Emplacement de l'installation                                                  0\n",
            "Facility City or District or Municipality / Ville ou District ou Municipalité de l'installation    0\n",
            "                                                                                                  ..\n",
            "C6F14 (tonnes CO2e / tonnes éq. CO2)                                                               0\n",
            "PFC Total (tonnes CO2e / tonnes éq. CO2)                                                           0\n",
            "SF6 (tonnes)                                                                                       0\n",
            "SF6 (tonnes CO2e / tonnes éq. CO2)                                                                 0\n",
            "Total Emissions (tonnes CO2e) / Émissions totales (tonnes éq. CO2)                                 0\n",
            "Length: 77, dtype: int64\n",
            "\n",
            "Imputation Methods Used:\n",
            "\n",
            "GHGRP ID / Numéro d'identification de PDGES:\n",
            "  n_missing: 0\n",
            "  method: missing_id placeholder\n",
            "  imputed_value: MISSING_ID\n",
            "\n",
            "Facility Name / Nom de l'installation:\n",
            "  n_missing: 0\n",
            "  method: unknown_facility placeholder\n",
            "  imputed_value: UNKNOWN_FACILITY\n",
            "\n",
            "Facility Province or Territory / Province ou territoire de l'installation:\n",
            "  n_missing: 0\n",
            "  method: unknown_facility placeholder\n",
            "  imputed_value: UNKNOWN_FACILITY\n",
            "\n",
            "CO2 (tonnes CO2e / tonnes éq. CO2):\n",
            "  n_missing: 0\n",
            "  method: zero (emissions assumption)\n",
            "  imputed_value: 0\n",
            "\n",
            "CH4 (tonnes CO2e / tonnes éq. CO2):\n",
            "  n_missing: 0\n",
            "  method: zero (emissions assumption)\n",
            "  imputed_value: 0\n",
            "\n",
            "N2O (tonnes CO2e / tonnes éq. CO2):\n",
            "  n_missing: 0\n",
            "  method: zero (emissions assumption)\n",
            "  imputed_value: 0\n",
            "\n",
            " HFC-23 (tonnes CO2e / tonnes éq. CO2):\n",
            "  n_missing: 0\n",
            "  method: zero (emissions assumption)\n",
            "  imputed_value: 0\n",
            "\n",
            "HFC-32 (tonnes CO2e / tonnes éq. CO2):\n",
            "  n_missing: 0\n",
            "  method: zero (emissions assumption)\n",
            "  imputed_value: 0\n",
            "\n",
            "HFC-125 (tonnes CO2e / tonnes éq. CO2):\n",
            "  n_missing: 0\n",
            "  method: zero (emissions assumption)\n",
            "  imputed_value: 0\n",
            "\n",
            "HFC-134a (tonnes CO2e / tonnes éq. CO2):\n",
            "  n_missing: 0\n",
            "  method: zero (emissions assumption)\n",
            "  imputed_value: 0\n",
            "\n",
            "HFC-143a (tonnes CO2e / tonnes éq. CO2):\n",
            "  n_missing: 0\n",
            "  method: zero (emissions assumption)\n",
            "  imputed_value: 0\n",
            "\n",
            "HFC-152a (tonnes CO2e / tonnes éq. CO2):\n",
            "  n_missing: 0\n",
            "  method: zero (emissions assumption)\n",
            "  imputed_value: 0\n",
            "\n",
            "HFC-41 (tonnes CO2e / tonnes éq. CO2):\n",
            "  n_missing: 0\n",
            "  method: zero (emissions assumption)\n",
            "  imputed_value: 0\n",
            "\n",
            "HFC-43-10mee (tonnes CO2e / tonnes éq. CO2):\n",
            "  n_missing: 0\n",
            "  method: zero (emissions assumption)\n",
            "  imputed_value: 0\n",
            "\n",
            "HFC-134 (tonnes CO2e / tonnes éq. CO2):\n",
            "  n_missing: 0\n",
            "  method: zero (emissions assumption)\n",
            "  imputed_value: 0\n",
            "\n",
            "HFC-143 (tonnes CO2e / tonnes éq. CO2):\n",
            "  n_missing: 0\n",
            "  method: zero (emissions assumption)\n",
            "  imputed_value: 0\n",
            "\n",
            "HFC-227ea (tonnes CO2e / tonnes éq. CO2):\n",
            "  n_missing: 0\n",
            "  method: zero (emissions assumption)\n",
            "  imputed_value: 0\n",
            "\n",
            "HFC-236fa (tonnes CO2e / tonnes éq. CO2):\n",
            "  n_missing: 0\n",
            "  method: zero (emissions assumption)\n",
            "  imputed_value: 0\n",
            "\n",
            "HFC-245ca (tonnes CO2e / tonnes éq. CO2):\n",
            "  n_missing: 0\n",
            "  method: zero (emissions assumption)\n",
            "  imputed_value: 0\n",
            "\n",
            "HFC Total (tonnes CO2e / tonnes éq. CO2):\n",
            "  n_missing: 0\n",
            "  method: zero (emissions assumption)\n",
            "  imputed_value: 0\n",
            "\n",
            "CF4 (tonnes CO2e / tonnes éq. CO2):\n",
            "  n_missing: 0\n",
            "  method: zero (emissions assumption)\n",
            "  imputed_value: 0\n",
            "\n",
            "C2F6 (tonnes CO2e / tonnes éq. CO2):\n",
            "  n_missing: 0\n",
            "  method: zero (emissions assumption)\n",
            "  imputed_value: 0\n",
            "\n",
            "C3F8 (tonnes CO2e / tonnes éq. CO2):\n",
            "  n_missing: 0\n",
            "  method: zero (emissions assumption)\n",
            "  imputed_value: 0\n",
            "\n",
            "C4F10 (tonnes CO2e / tonnes éq. CO2):\n",
            "  n_missing: 0\n",
            "  method: zero (emissions assumption)\n",
            "  imputed_value: 0\n",
            "\n",
            "C4F8 (tonnes CO2e / tonnes éq. CO2):\n",
            "  n_missing: 0\n",
            "  method: zero (emissions assumption)\n",
            "  imputed_value: 0\n",
            "\n",
            "C5F12 (tonnes CO2e / tonnes éq. CO2):\n",
            "  n_missing: 0\n",
            "  method: zero (emissions assumption)\n",
            "  imputed_value: 0\n",
            "\n",
            "C6F14 (tonnes CO2e / tonnes éq. CO2):\n",
            "  n_missing: 0\n",
            "  method: zero (emissions assumption)\n",
            "  imputed_value: 0\n",
            "\n",
            "PFC Total (tonnes CO2e / tonnes éq. CO2):\n",
            "  n_missing: 0\n",
            "  method: zero (emissions assumption)\n",
            "  imputed_value: 0\n",
            "\n",
            "SF6 (tonnes CO2e / tonnes éq. CO2):\n",
            "  n_missing: 0\n",
            "  method: zero (emissions assumption)\n",
            "  imputed_value: 0\n",
            "\n",
            "Total Emissions (tonnes CO2e) / Émissions totales (tonnes éq. CO2):\n",
            "  n_missing: 0\n",
            "  method: zero (emissions assumption)\n",
            "  imputed_value: 0\n"
          ]
        },
        {
          "output_type": "stream",
          "name": "stderr",
          "text": [
            "<ipython-input-64-39b355960ec7>:46: FutureWarning: A value is trying to be set on a copy of a DataFrame or Series through chained assignment using an inplace method.\n",
            "The behavior will change in pandas 3.0. This inplace method will never work because the intermediate object on which we are setting values always behaves as a copy.\n",
            "\n",
            "For example, when doing 'df[col].method(value, inplace=True)', try using 'df.method({col: value}, inplace=True)' or df[col] = df[col].method(value) instead, to perform the operation inplace on the original object.\n",
            "\n",
            "\n",
            "  data[col].fillna('MISSING_ID', inplace=True)\n",
            "<ipython-input-64-39b355960ec7>:53: FutureWarning: A value is trying to be set on a copy of a DataFrame or Series through chained assignment using an inplace method.\n",
            "The behavior will change in pandas 3.0. This inplace method will never work because the intermediate object on which we are setting values always behaves as a copy.\n",
            "\n",
            "For example, when doing 'df[col].method(value, inplace=True)', try using 'df.method({col: value}, inplace=True)' or df[col] = df[col].method(value) instead, to perform the operation inplace on the original object.\n",
            "\n",
            "\n",
            "  data[col].fillna('UNKNOWN_FACILITY', inplace=True)\n",
            "<ipython-input-64-39b355960ec7>:28: FutureWarning: A value is trying to be set on a copy of a DataFrame or Series through chained assignment using an inplace method.\n",
            "The behavior will change in pandas 3.0. This inplace method will never work because the intermediate object on which we are setting values always behaves as a copy.\n",
            "\n",
            "For example, when doing 'df[col].method(value, inplace=True)', try using 'df.method({col: value}, inplace=True)' or df[col] = df[col].method(value) instead, to perform the operation inplace on the original object.\n",
            "\n",
            "\n",
            "  data[col].fillna(0, inplace=True)  # Changed from string '0' to numeric 0\n"
          ]
        }
      ]
    },
    {
      "cell_type": "code",
      "source": [
        "for col in data.columns.to_list():\n",
        "  if 'tonnes CO2e' in col:\n",
        "    key_columns.append(col)\n",
        "print(key_columns)"
      ],
      "metadata": {
        "id": "LJV_M1fS_dbI",
        "outputId": "34b4dddb-f693-4fda-aaaa-96204684f50e",
        "colab": {
          "base_uri": "https://localhost:8080/"
        }
      },
      "execution_count": 47,
      "outputs": [
        {
          "output_type": "stream",
          "name": "stdout",
          "text": [
            "[\"GHGRP ID / Numéro d'identification de PDGES\", \"Facility Name / Nom de l'installation\", \"Facility Province or Territory / Province ou territoire de l'installation\", 'Latitude', 'Longitude', 'Total Emissions (tonnes CO2e) / Émissions totales (tonnes éq. CO2)', 'CO2 (tonnes)', 'CH4 (tonnes CO2e / tonnes éq. CO2)', 'CO2 (tonnes CO2e / tonnes éq. CO2)', 'CH4 (tonnes CO2e / tonnes éq. CO2)', 'N2O (tonnes CO2e / tonnes éq. CO2)', ' HFC-23 (tonnes CO2e / tonnes éq. CO2)', 'HFC-32 (tonnes CO2e / tonnes éq. CO2)', 'HFC-125 (tonnes CO2e / tonnes éq. CO2)', 'HFC-134a (tonnes CO2e / tonnes éq. CO2)', 'HFC-143a (tonnes CO2e / tonnes éq. CO2)', 'HFC-152a (tonnes CO2e / tonnes éq. CO2)', 'HFC-41 (tonnes CO2e / tonnes éq. CO2)', 'HFC-43-10mee (tonnes CO2e / tonnes éq. CO2)', 'HFC-134 (tonnes CO2e / tonnes éq. CO2)', 'HFC-143 (tonnes CO2e / tonnes éq. CO2)', 'HFC-227ea (tonnes CO2e / tonnes éq. CO2)', 'HFC-236fa (tonnes CO2e / tonnes éq. CO2)', 'HFC-245ca (tonnes CO2e / tonnes éq. CO2)', 'HFC Total (tonnes CO2e / tonnes éq. CO2)', 'CF4 (tonnes CO2e / tonnes éq. CO2)', 'C2F6 (tonnes CO2e / tonnes éq. CO2)', 'C3F8 (tonnes CO2e / tonnes éq. CO2)', 'C4F10 (tonnes CO2e / tonnes éq. CO2)', 'C4F8 (tonnes CO2e / tonnes éq. CO2)', 'C5F12 (tonnes CO2e / tonnes éq. CO2)', 'C6F14 (tonnes CO2e / tonnes éq. CO2)', 'PFC Total (tonnes CO2e / tonnes éq. CO2)', 'SF6 (tonnes CO2e / tonnes éq. CO2)', 'Total Emissions (tonnes CO2e) / Émissions totales (tonnes éq. CO2)', 'CO2 (tonnes CO2e / tonnes éq. CO2)', 'CH4 (tonnes CO2e / tonnes éq. CO2)', 'N2O (tonnes CO2e / tonnes éq. CO2)', ' HFC-23 (tonnes CO2e / tonnes éq. CO2)', 'HFC-32 (tonnes CO2e / tonnes éq. CO2)', 'HFC-125 (tonnes CO2e / tonnes éq. CO2)', 'HFC-134a (tonnes CO2e / tonnes éq. CO2)', 'HFC-143a (tonnes CO2e / tonnes éq. CO2)', 'HFC-152a (tonnes CO2e / tonnes éq. CO2)', 'HFC-41 (tonnes CO2e / tonnes éq. CO2)', 'HFC-43-10mee (tonnes CO2e / tonnes éq. CO2)', 'HFC-134 (tonnes CO2e / tonnes éq. CO2)', 'HFC-143 (tonnes CO2e / tonnes éq. CO2)', 'HFC-227ea (tonnes CO2e / tonnes éq. CO2)', 'HFC-236fa (tonnes CO2e / tonnes éq. CO2)', 'HFC-245ca (tonnes CO2e / tonnes éq. CO2)', 'HFC Total (tonnes CO2e / tonnes éq. CO2)', 'CF4 (tonnes CO2e / tonnes éq. CO2)', 'C2F6 (tonnes CO2e / tonnes éq. CO2)', 'C3F8 (tonnes CO2e / tonnes éq. CO2)', 'C4F10 (tonnes CO2e / tonnes éq. CO2)', 'C4F8 (tonnes CO2e / tonnes éq. CO2)', 'C5F12 (tonnes CO2e / tonnes éq. CO2)', 'C6F14 (tonnes CO2e / tonnes éq. CO2)', 'PFC Total (tonnes CO2e / tonnes éq. CO2)', 'SF6 (tonnes CO2e / tonnes éq. CO2)', 'Total Emissions (tonnes CO2e) / Émissions totales (tonnes éq. CO2)', 'CO2 (tonnes CO2e / tonnes éq. CO2)', 'CH4 (tonnes CO2e / tonnes éq. CO2)', 'N2O (tonnes CO2e / tonnes éq. CO2)', ' HFC-23 (tonnes CO2e / tonnes éq. CO2)', 'HFC-32 (tonnes CO2e / tonnes éq. CO2)', 'HFC-125 (tonnes CO2e / tonnes éq. CO2)', 'HFC-134a (tonnes CO2e / tonnes éq. CO2)', 'HFC-143a (tonnes CO2e / tonnes éq. CO2)', 'HFC-152a (tonnes CO2e / tonnes éq. CO2)', 'HFC-41 (tonnes CO2e / tonnes éq. CO2)', 'HFC-43-10mee (tonnes CO2e / tonnes éq. CO2)', 'HFC-134 (tonnes CO2e / tonnes éq. CO2)', 'HFC-143 (tonnes CO2e / tonnes éq. CO2)', 'HFC-227ea (tonnes CO2e / tonnes éq. CO2)', 'HFC-236fa (tonnes CO2e / tonnes éq. CO2)', 'HFC-245ca (tonnes CO2e / tonnes éq. CO2)', 'HFC Total (tonnes CO2e / tonnes éq. CO2)', 'CF4 (tonnes CO2e / tonnes éq. CO2)', 'C2F6 (tonnes CO2e / tonnes éq. CO2)', 'C3F8 (tonnes CO2e / tonnes éq. CO2)', 'C4F10 (tonnes CO2e / tonnes éq. CO2)', 'C4F8 (tonnes CO2e / tonnes éq. CO2)', 'C5F12 (tonnes CO2e / tonnes éq. CO2)', 'C6F14 (tonnes CO2e / tonnes éq. CO2)', 'PFC Total (tonnes CO2e / tonnes éq. CO2)', 'SF6 (tonnes CO2e / tonnes éq. CO2)', 'Total Emissions (tonnes CO2e) / Émissions totales (tonnes éq. CO2)']\n"
          ]
        }
      ]
    },
    {
      "cell_type": "code",
      "source": [
        "print(data.head())"
      ],
      "metadata": {
        "id": "y2RX3neOQvJL"
      },
      "execution_count": null,
      "outputs": []
    }
  ]
}